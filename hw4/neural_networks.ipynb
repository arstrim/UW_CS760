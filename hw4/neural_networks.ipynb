{
 "cells": [
  {
   "cell_type": "code",
   "execution_count": 269,
   "id": "e7f5d861",
   "metadata": {},
   "outputs": [],
   "source": [
    "import numpy as np\n",
    "import pandas as pd\n",
    "import matplotlib.pyplot as plt"
   ]
  },
  {
   "cell_type": "code",
   "execution_count": 270,
   "id": "2501b863",
   "metadata": {},
   "outputs": [],
   "source": [
    "class CrossEntropyLoss:\n",
    "    @staticmethod\n",
    "    def loss(y_pred, y_true):\n",
    "        return -(y_true*np.log(y_pred)).sum()\n",
    "\n",
    "    @staticmethod\n",
    "    def loss_(y_pred, y_true):\n",
    "        return -y_true/y_pred\n",
    "#         if y_pred.ndim > 1:\n",
    "#             return 2 *((np.subtract(y_pred, y_true)).mean(0))\n",
    "#         else: \n",
    "#             return 2 *np.subtract(y_pred, y_true)\n",
    "\n",
    "\n",
    "class Sigmoid:\n",
    "    @staticmethod\n",
    "    def apply(x):\n",
    "        return 1/(1+np.exp(-x))\n",
    "\n",
    "    @staticmethod\n",
    "    def apply_(x):\n",
    "        # calculate the derivative of the sigmoid funciton\n",
    "        return np.outer(x, (1 - x))\n",
    "#         return Sigmoid.apply(x)*(1-Sigmoid.apply(x))\n",
    "#         return np.exp(-x)/((1+np.exp(-x))**2)\n",
    "    \n",
    "class Softmax:\n",
    "    @staticmethod\n",
    "    def apply(x):\n",
    "        return np.exp(x)/(np.exp(x).sum())\n",
    "    \n",
    "    def apply_(x): # TODO check\n",
    "        return np.eye(x.shape[0]) * x - np.outer(x, x)\n",
    "#         return np.exp(x) / sum(np.exp(x)) * (1. - np.exp(x) / sum(np.exp(x)))\n",
    "#         return np.eye(x.shape[0])*Softmax.apply(x) - np.outer(Softmax.apply(x),  Softmax.apply(x))"
   ]
  },
  {
   "cell_type": "code",
   "execution_count": 286,
   "id": "f3300a02",
   "metadata": {},
   "outputs": [],
   "source": [
    "class Layer:\n",
    "    def __init__(self, weights, bias=None, activation_function=Sigmoid):\n",
    "        # you can choose whether to to add bias manually or not use it\n",
    "        self.weights = weights\n",
    "#         if bias is None:\n",
    "#             self.bias = np.zeros(self.weights.shape[0])\n",
    "#         else:\n",
    "#             self.bias = bias\n",
    "        self.act_func = activation_function\n",
    "#         self.check_shape_weights_bias()\n",
    "\n",
    "\n",
    "    def apply(self, x_in):\n",
    "        # calculate the layer output given x_in using layer weights and bias\n",
    "        # save x_in and x_out for backwards pass\n",
    "        x_out = np.dot(self.weights, x_in) #+ self.bias\n",
    "        self.x_out = x_out\n",
    "        self.x_in = x_in\n",
    "        return self.act_func.apply(x_out)\n",
    "    \n",
    "#     def loss(self, downstream_grad):\n",
    "        \n",
    "    \n",
    "    def backwards(self, downstream_grad): #TODO to bias\n",
    "        function_derivative = self.act_func.apply_(self.x_out)\n",
    "        # calculate the gradient of the layer weights and pad on the gradient to upstream layers\n",
    "        x_out_grad = self.act_func.apply_(self.x_out)\n",
    "        downstream_grad = downstream_grad * x_out_grad\n",
    "        self.weights_grad = np.outer(downstream_grad, self.x_in) #TODO use it for gradient descent\n",
    "#         self.weights_grad = downstream_grad @  self.x_in\n",
    "        self.bias_grad = downstream_grad\n",
    "        downstream_grad = downstream_grad @ self.weights\n",
    "        return downstream_grad\n",
    "\n",
    "    def check_shape_weights_bias(self):\n",
    "        if self.weights.shape[0] != self.bias.shape[0]:\n",
    "            raise ValueError('Incorrect size of weights and bias. '\n",
    "                            'weights.shape', self.weights.shape, 'bias.shape', self.bias.shape)"
   ]
  },
  {
   "cell_type": "code",
   "execution_count": 442,
   "id": "870c9be3",
   "metadata": {},
   "outputs": [],
   "source": [
    "class Network:\n",
    "    # initialize the network with the given layers\n",
    "    def __init__(self, layers=None, loss_func=CrossEntropyLoss):\n",
    "        if layers is None:\n",
    "            self.layers = []\n",
    "        else:\n",
    "            self.layers = layers\n",
    "        self.check_size_layers()\n",
    "        self.lossfunc = loss_func\n",
    "\n",
    "    def add_layer(self, new_layer):\n",
    "        # add a layer to the network, checks it is correct size\n",
    "        self.layers.append(new_layer)\n",
    "        self.check_size_layers()\n",
    "\n",
    "#     def remove_layer(self, index):\n",
    "#         # removes layer, check if sizes make sense\n",
    "#         self.layers.pop(index)\n",
    "#         self.check_size_layers()\n",
    "\n",
    "#     def add_layer_in(self, new_layer, pos):\n",
    "#         # adds a layer in some position, checks the correct size\n",
    "#         self.layers.insert(pos, new_layer)\n",
    "#         self.check_size_layers()\n",
    "\n",
    "    def forward(self, x):\n",
    "        # do a forwark pass of the network on the given input\n",
    "        x_out = self.layers[0].apply(x)\n",
    "        for i in range(1, len(self.layers)):\n",
    "            x_out = self.layers[i].apply(x_out)\n",
    "        return x_out\n",
    "\n",
    "    def forward_multiple_input(self, multiple_x):\n",
    "        # performs multiple input\n",
    "        multiple_x_out = []\n",
    "        for j in range(len(multiple_x)):\n",
    "            multiple_x_out.append(self.forward(multiple_x[j]))\n",
    "        return multiple_x_out\n",
    "    \n",
    "    def backwards(self, loss_grad):\n",
    "        # do a backwards pass and calculate the network gradients\n",
    "        # loop through all layers in reverse order and call backwards func\n",
    "        downstream_grad = loss_grad\n",
    "        for layer in reversed(self.layers):\n",
    "            downstream_grad = layer.backwards(downstream_grad)\n",
    "#         return downstream_grad\n",
    "\n",
    "    def check_size_layers(self):\n",
    "        # check the correct sizes of weights between layers\n",
    "        for i in range(1, len(self.layers)):\n",
    "            if self.layers[i-1].weights.shape[0] != self.layers[i].weights.shape[1]:\n",
    "                raise ValueError('Incorrect sizes of layers',\n",
    "                                self.layers[i-1].weights.shape, 'vs', self.layers[i].weights.shape)\n",
    "\n",
    "\n",
    "    def train(self, inputs, outputs, epochs=1, learning_rate=0.1):\n",
    "        print('inputs', inputs.shape, 'outputs', outputs.shape)\n",
    "        loss=0\n",
    "        for epoch in range(epochs):\n",
    "            loss=0\n",
    "            for i_out in range(len(inputs)):            \n",
    "                y_pred = np.array(self.forward(inputs[i_out]))\n",
    "#                 print(y_pred)\n",
    "                loss = CrossEntropyLoss.loss(y_pred, outputs[i_out])\n",
    "                loss_ = CrossEntropyLoss.loss_(y_pred, outputs[i_out])\n",
    "\n",
    "                softmax_der = (np.eye(y_pred.shape[0]) * y_pred - np.outer(y_pred, y_pred))\n",
    "                downstream_grad = loss_ @ softmax_der\n",
    "                w3up = np.outer(downstream_grad, self.layers[2].x_in)\n",
    "\n",
    "                sigmoid_der = np.outer(self.layers[2].x_in, (1 - self.layers[2].x_in ))\n",
    "                downstream_grad = (downstream_grad @ self.layers[2].weights @ sigmoid_der)\n",
    "                w2up = np.outer(downstream_grad, self.layers[1].x_in)\n",
    "\n",
    "                sigmoid_der = np.outer(self.layers[1].x_in, (1 - self.layers[1].x_in ))\n",
    "                downstream_grad = (downstream_grad @ self.layers[1].weights @ sigmoid_der)\n",
    "                w1up = np.outer(downstream_grad, self.layers[0].x_in)\n",
    "\n",
    "                loss += loss/inputs.shape[0] \n",
    "\n",
    "    #             print(self.layers[2].weights[0][0])\n",
    "    #             print(max(w3up[0]))\n",
    "    #             print(w3up[0][0] * learning_rate)\n",
    "                self.layers[2].weights -= w3up * learning_rate\n",
    "                self.layers[1].weights -= w2up * learning_rate\n",
    "                self.layers[0].weights -= w1up * learning_rate\n",
    "    #             for layer in self.layers:\n",
    "    #                 layer.weights -= layer.weights_grad * learning_rate\n",
    "    # #                 print(layer.bias_grad)\n",
    "    # #                 print(layer.bias)\n",
    "    #                 layer.bias -= layer.bias_grad *learning_rate \n",
    "\n",
    "            if epoch %(epochs/10) == 0:\n",
    "                print(epoch, 'CrossEntropyLoss', loss)"
   ]
  },
  {
   "cell_type": "code",
   "execution_count": 412,
   "id": "a6ceb420",
   "metadata": {},
   "outputs": [],
   "source": [
    "\n"
   ]
  },
  {
   "cell_type": "code",
   "execution_count": 381,
   "id": "d0649ea5",
   "metadata": {},
   "outputs": [],
   "source": [
    "def calculate_accuracy(predict_proba, y):\n",
    "    \"\"\"\n",
    "    Calculates the accuracy of the prediction\n",
    "    :param predict_proba: the probabilities of each class\n",
    "    :param y:  true labels\n",
    "    :return: acc accuracy\n",
    "    \"\"\"\n",
    "    y_pred = predict_proba.argmax(axis=1)\n",
    "    acc = (y_pred == y).sum() / y.shape[0]\n",
    "    return acc"
   ]
  },
  {
   "cell_type": "code",
   "execution_count": 342,
   "id": "f4d5e839",
   "metadata": {},
   "outputs": [],
   "source": [
    "# ls"
   ]
  },
  {
   "cell_type": "code",
   "execution_count": 325,
   "id": "5f574ab0",
   "metadata": {},
   "outputs": [],
   "source": [
    "# pip install torch"
   ]
  },
  {
   "cell_type": "code",
   "execution_count": 326,
   "id": "bb591548",
   "metadata": {},
   "outputs": [],
   "source": [
    "# pip install torchvision"
   ]
  },
  {
   "cell_type": "code",
   "execution_count": 327,
   "id": "8ccf6692",
   "metadata": {},
   "outputs": [],
   "source": [
    "# import torch\n",
    "# import torchvision\n",
    "# import torchvision.datasets as datasets"
   ]
  },
  {
   "cell_type": "code",
   "execution_count": 328,
   "id": "1ea000fb",
   "metadata": {},
   "outputs": [],
   "source": [
    "# mnist_trainset = datasets.MNIST(root='./mnist_data', train=True, download=True, transform=None)"
   ]
  },
  {
   "cell_type": "code",
   "execution_count": 329,
   "id": "a14cfa14",
   "metadata": {},
   "outputs": [],
   "source": [
    "# mnist_trainset[0]"
   ]
  },
  {
   "cell_type": "code",
   "execution_count": 330,
   "id": "702183cd",
   "metadata": {},
   "outputs": [],
   "source": [
    "train_df = pd.read_csv('archive/mnist_train.csv')"
   ]
  },
  {
   "cell_type": "code",
   "execution_count": 331,
   "id": "6fd90c7b",
   "metadata": {},
   "outputs": [],
   "source": [
    "X = train_df.iloc[:, 1:]\n",
    "assert not'label' in X.columns\n",
    "X = X.to_numpy()\n",
    "y = train_df['label']"
   ]
  },
  {
   "cell_type": "code",
   "execution_count": 332,
   "id": "b4c5f453",
   "metadata": {},
   "outputs": [
    {
     "data": {
      "text/plain": [
       "(60000, 784)"
      ]
     },
     "execution_count": 332,
     "metadata": {},
     "output_type": "execute_result"
    }
   ],
   "source": [
    "X.shape"
   ]
  },
  {
   "cell_type": "code",
   "execution_count": 465,
   "id": "c96de5af",
   "metadata": {},
   "outputs": [
    {
     "name": "stdout",
     "output_type": "stream",
     "text": [
      "Accuracy: 0.11236666666666667\n"
     ]
    }
   ],
   "source": [
    "# Creating network\n",
    "weights = np.random.normal(size=(300, X.shape[1]))/X.shape[1]\n",
    "l1 = Layer(weights, None, Sigmoid)\n",
    "weights = np.random.normal(size=(200, 300))/X.shape[1]\n",
    "l2 = Layer(weights, None, Sigmoid)\n",
    "weights = np.random.normal(size=(10, 200))/X.shape[1]\n",
    "l3 = Layer(weights, None, Softmax)\n",
    "net = Network([l1, l2, l3])\n",
    "\n",
    "# Calculating accuracy\n",
    "predict_proba = np.array(net.forward_multiple_input(X))\n",
    "acc = calculate_accuracy(predict_proba, y)\n",
    "print('Accuracy:', acc)"
   ]
  },
  {
   "cell_type": "code",
   "execution_count": 454,
   "id": "5ead0e8f",
   "metadata": {},
   "outputs": [],
   "source": [
    "batch = 64"
   ]
  },
  {
   "cell_type": "code",
   "execution_count": 455,
   "id": "ceb407b5",
   "metadata": {},
   "outputs": [],
   "source": [
    "one_hots = []\n",
    "for yi in y:\n",
    "    one_hots.append([1 if _==yi else 0 for _ in range(10)])\n",
    "one_hots = np.array(one_hots)"
   ]
  },
  {
   "cell_type": "code",
   "execution_count": 466,
   "id": "60d7bad1",
   "metadata": {},
   "outputs": [
    {
     "name": "stdout",
     "output_type": "stream",
     "text": [
      "inputs (60000, 784) outputs (60000, 10)\n"
     ]
    },
    {
     "name": "stderr",
     "output_type": "stream",
     "text": [
      "<ipython-input-270-e38cc5d9cd59>:18: RuntimeWarning: overflow encountered in exp\n",
      "  return 1/(1+np.exp(-x))\n"
     ]
    },
    {
     "name": "stdout",
     "output_type": "stream",
     "text": [
      "0 CrossEntropyLoss 2.3720041529815856\n",
      "1 CrossEntropyLoss 2.3857377628459977\n",
      "2 CrossEntropyLoss 2.356270712266509\n",
      "3 CrossEntropyLoss 2.339652253020851\n",
      "4 CrossEntropyLoss 2.3400719721715837\n",
      "Accuracy: 0.11236666666666667\n"
     ]
    }
   ],
   "source": [
    "net.train(X, one_hots, 5, 0.00001)\n",
    "predict_proba = np.array(net.forward_multiple_input(X))\n",
    "acc = calculate_accuracy(predict_proba, y)\n",
    "print('Accuracy:', acc)"
   ]
  },
  {
   "cell_type": "code",
   "execution_count": 457,
   "id": "3c4ea14a",
   "metadata": {},
   "outputs": [
    {
     "name": "stdout",
     "output_type": "stream",
     "text": [
      "Accuracy: 0.10441666666666667\n"
     ]
    }
   ],
   "source": [
    "print('Accuracy:', acc)"
   ]
  },
  {
   "cell_type": "code",
   "execution_count": 253,
   "id": "986810c9",
   "metadata": {},
   "outputs": [
    {
     "data": {
      "text/plain": [
       "0.09871666666666666"
      ]
     },
     "execution_count": 253,
     "metadata": {},
     "output_type": "execute_result"
    }
   ],
   "source": [
    "acc"
   ]
  },
  {
   "cell_type": "code",
   "execution_count": 229,
   "id": "b3936eeb",
   "metadata": {},
   "outputs": [
    {
     "name": "stdout",
     "output_type": "stream",
     "text": [
      "Accuracy: 0.09035\n"
     ]
    }
   ],
   "source": [
    "predict_proba = np.array(net.forward_multiple_input(X))\n",
    "acc = calculate_accuracy(predict_proba, y)\n",
    "print('Accuracy:', acc)"
   ]
  },
  {
   "cell_type": "code",
   "execution_count": 218,
   "id": "ab548bed",
   "metadata": {},
   "outputs": [],
   "source": [
    "y_pred = np.array(net.forward(X[0]))\n",
    "loss_ = CrossEntropyLoss.loss_(y_pred, y[0])\n",
    "\n",
    "softmax_der = (np.eye(y_pred.shape[0]) * y_pred - np.outer(y_pred, y_pred))\n",
    "downstream_grad = loss_ @ softmax_der\n",
    "w3up = np.outer(downstream_grad, l3.x_in)\n",
    "\n",
    "sigmoid_der = np.outer(l3.x_in, (1 - l3.x_in ))\n",
    "downstream_grad = (downstream_grad @ l3.weights @ sigmoid_der)\n",
    "w2up = np.outer(downstream_grad, l2.x_in)\n",
    "\n",
    "sigmoid_der = np.outer(l2.x_in, (1 - l2.x_in ))\n",
    "downstream_grad = (downstream_grad @ l2.weights @ sigmoid_der)\n",
    "w1up = np.outer(downstream_grad, l1.x_in)"
   ]
  },
  {
   "cell_type": "markdown",
   "id": "066e2735",
   "metadata": {},
   "source": [
    "# USING PYTORCH"
   ]
  },
  {
   "cell_type": "code",
   "execution_count": null,
   "id": "18ad1a65",
   "metadata": {},
   "outputs": [],
   "source": [
    "import torch.nn as nn\n",
    "import torch.nn.functional as F\n",
    "import torch.optim as optim"
   ]
  },
  {
   "cell_type": "code",
   "execution_count": 184,
   "id": "5585bb68",
   "metadata": {},
   "outputs": [],
   "source": [
    "class Net(nn.Module):\n",
    "    def __init__(self):\n",
    "        super().__init__()\n",
    "        self.fc1 = nn.Linear(784, 400)\n",
    "        self.fc2 = nn.Linear(400, 200)\n",
    "        self.fc3 = nn.Linear(200, 10)\n",
    "        \n",
    "        self.apply(self._init_weights)\n",
    "    def _init_weights(self, module):\n",
    "        if isinstance(module, nn.Linear):\n",
    "            module.weight.data.uniform_(-1, 1)\n",
    "#             module.weight.data.fill_(0)\n",
    "#             module.weight.data.normal_(mean=0.0, std=1.0)\n",
    "            if module.bias is not None:\n",
    "                module.bias.data.fill_(0)\n",
    "#                 module.bias.data.zero_()\n",
    "\n",
    "    def forward(self, x):\n",
    "        x = F.sigmoid(self.fc1(x))\n",
    "        x = F.sigmoid(self.fc2(x))\n",
    "        x = F.softmax(self.fc3(x))\n",
    "        return x\n",
    "\n",
    "\n",
    "net = Net()"
   ]
  },
  {
   "cell_type": "code",
   "execution_count": 185,
   "id": "57a7fb2a",
   "metadata": {},
   "outputs": [],
   "source": []
  },
  {
   "cell_type": "code",
   "execution_count": 186,
   "id": "ead8ac34",
   "metadata": {},
   "outputs": [
    {
     "name": "stderr",
     "output_type": "stream",
     "text": [
      "<ipython-input-184-d999faca8c6a>:25: UserWarning: Implicit dimension choice for softmax has been deprecated. Change the call to include dim=X as an argument.\n",
      "  x = F.softmax(self.fc3(x))\n"
     ]
    },
    {
     "name": "stdout",
     "output_type": "stream",
     "text": [
      "[1,     1] loss: 0.001\n",
      "[1, 50001] loss: 0.579\n",
      "[2,     1] loss: 0.001\n",
      "[2, 50001] loss: 0.570\n",
      "[3,     1] loss: 0.001\n",
      "[3, 50001] loss: 0.561\n",
      "[4,     1] loss: 0.001\n",
      "[4, 50001] loss: 0.551\n",
      "[5,     1] loss: 0.001\n",
      "[5, 50001] loss: 0.541\n",
      "[6,     1] loss: 0.001\n",
      "[6, 50001] loss: 0.534\n",
      "[7,     1] loss: 0.001\n",
      "[7, 50001] loss: 0.528\n",
      "[8,     1] loss: 0.001\n",
      "[8, 50001] loss: 0.524\n",
      "[9,     1] loss: 0.001\n",
      "[9, 50001] loss: 0.519\n",
      "[10,     1] loss: 0.001\n",
      "[10, 50001] loss: 0.516\n",
      "[11,     1] loss: 0.001\n",
      "[11, 50001] loss: 0.512\n",
      "[12,     1] loss: 0.001\n",
      "[12, 50001] loss: 0.509\n",
      "[13,     1] loss: 0.001\n",
      "[13, 50001] loss: 0.506\n",
      "[14,     1] loss: 0.001\n",
      "[14, 50001] loss: 0.504\n",
      "[15,     1] loss: 0.001\n",
      "[15, 50001] loss: 0.502\n",
      "[16,     1] loss: 0.001\n",
      "[16, 50001] loss: 0.500\n",
      "[17,     1] loss: 0.001\n",
      "[17, 50001] loss: 0.498\n",
      "[18,     1] loss: 0.001\n",
      "[18, 50001] loss: 0.496\n",
      "[19,     1] loss: 0.001\n",
      "[19, 50001] loss: 0.494\n",
      "[20,     1] loss: 0.001\n",
      "[20, 50001] loss: 0.493\n",
      "Finished Training\n"
     ]
    }
   ],
   "source": [
    "criterion = nn.CrossEntropyLoss()\n",
    "optimizer = optim.SGD(net.parameters(), lr=0.01)\n",
    "\n",
    "losses = []\n",
    "for epoch in range(20):  # loop over the dataset multiple times\n",
    "\n",
    "    running_loss = 0.0\n",
    "#     for i, data in enumerate(trainloader, 0):\n",
    "#         # get the inputs; data is a list of [inputs, labels]\n",
    "#         inputs, labels = data\n",
    "    for batch_i in range(0, X.shape[0], batch):\n",
    "        inputs = torch.tensor(X[batch_i:batch_i + batch]).to(torch.float32)\n",
    "        labels = torch.tensor(one_hots[batch_i:batch_i + batch]).to(torch.float32)\n",
    "\n",
    "        # zero the parameter gradients\n",
    "        optimizer.zero_grad()\n",
    "\n",
    "        # forward + backward + optimize\n",
    "        outputs = net(inputs)\n",
    "        loss = criterion(outputs, labels)\n",
    "        losses.append(loss.item())\n",
    "        loss.backward()\n",
    "        optimizer.step()\n",
    "\n",
    "        # print statistics\n",
    "        running_loss += loss.item()\n",
    "        if batch_i % 50000 == 0:    # print every 2000 mini-batches\n",
    "            print(f'[{epoch + 1}, {batch_i + 1:5d}] loss: {running_loss / 2000:.3f}')\n",
    "            running_loss = 0.0\n",
    "\n",
    "print('Finished Training')"
   ]
  },
  {
   "cell_type": "code",
   "execution_count": 187,
   "id": "d96e6e3a",
   "metadata": {},
   "outputs": [
    {
     "data": {
      "text/plain": [
       "[<matplotlib.lines.Line2D at 0x7fcfd2730490>]"
      ]
     },
     "execution_count": 187,
     "metadata": {},
     "output_type": "execute_result"
    },
    {
     "data": {
      "image/png": "[encoded data removed]",
      "text/plain": [
       "<Figure size 432x288 with 1 Axes>"
      ]
     },
     "metadata": {
      "needs_background": "light"
     },
     "output_type": "display_data"
    }
   ],
   "source": [
    "# uniform distributed\n",
    "\n",
    "plt.plot(losses)"
   ]
  },
  {
   "cell_type": "code",
   "execution_count": 183,
   "id": "5f4c33cf",
   "metadata": {},
   "outputs": [
    {
     "data": {
      "text/plain": [
       "[<matplotlib.lines.Line2D at 0x7fcfe23929d0>]"
      ]
     },
     "execution_count": 183,
     "metadata": {},
     "output_type": "execute_result"
    },
    {
     "data": {
      "image/png": "[encoded data removed]",
      "text/plain": [
       "<Figure size 432x288 with 1 Axes>"
      ]
     },
     "metadata": {
      "needs_background": "light"
     },
     "output_type": "display_data"
    }
   ],
   "source": [
    "# normal distributed weights\n",
    "plt.plot(losses)"
   ]
  },
  {
   "cell_type": "code",
   "execution_count": 167,
   "id": "5b56e633",
   "metadata": {},
   "outputs": [
    {
     "data": {
      "text/plain": [
       "[<matplotlib.lines.Line2D at 0x7fcfd1b53dc0>]"
      ]
     },
     "execution_count": 167,
     "metadata": {},
     "output_type": "execute_result"
    },
    {
     "data": {
      "image/png": "[encoded data removed]",
      "text/plain": [
       "<Figure size 432x288 with 1 Axes>"
      ]
     },
     "metadata": {
      "needs_background": "light"
     },
     "output_type": "display_data"
    }
   ],
   "source": [
    "# zero init weights\n",
    "\n",
    "plt.plot(losses)"
   ]
  },
  {
   "cell_type": "code",
   "execution_count": 158,
   "id": "ab7437be",
   "metadata": {},
   "outputs": [],
   "source": []
  },
  {
   "cell_type": "code",
   "execution_count": 121,
   "id": "b30526c7",
   "metadata": {},
   "outputs": [
    {
     "data": {
      "image/png": "[encoded data removed]",
      "text/plain": [
       "<Figure size 432x288 with 2 Axes>"
      ]
     },
     "metadata": {
      "needs_background": "light"
     },
     "output_type": "display_data"
    }
   ],
   "source": [
    "from sklearn.metrics import confusion_matrix, ConfusionMatrixDisplay\n",
    "\n",
    "cm = confusion_matrix(outputs.argmax(axis=1) , labels.argmax(axis=1), labels=[i for i in range(10)] ) # TODO check if labels are assigned correctly\n",
    "disp = ConfusionMatrixDisplay(confusion_matrix=cm, display_labels=[i for i in range(10)]) # TODO check if labels are assigned correctly\n",
    "\n",
    "disp.plot();"
   ]
  },
  {
   "cell_type": "code",
   "execution_count": null,
   "id": "62bd0145",
   "metadata": {},
   "outputs": [],
   "source": []
  },
  {
   "cell_type": "code",
   "execution_count": 124,
   "id": "e4f1df56",
   "metadata": {},
   "outputs": [
    {
     "name": "stderr",
     "output_type": "stream",
     "text": [
      "/opt/anaconda3/lib/python3.8/site-packages/torch/nn/functional.py:1967: UserWarning: nn.functional.sigmoid is deprecated. Use torch.sigmoid instead.\n",
      "  warnings.warn(\"nn.functional.sigmoid is deprecated. Use torch.sigmoid instead.\")\n",
      "<ipython-input-118-0860eca73b57>:15: UserWarning: Implicit dimension choice for softmax has been deprecated. Change the call to include dim=X as an argument.\n",
      "  x = F.softmax(self.fc3(x))\n"
     ]
    },
    {
     "data": {
      "image/png": "[encoded data removed]",
      "text/plain": [
       "<Figure size 432x288 with 2 Axes>"
      ]
     },
     "metadata": {
      "needs_background": "light"
     },
     "output_type": "display_data"
    }
   ],
   "source": [
    "inputs = torch.tensor(X).to(torch.float32)\n",
    "labels = torch.tensor(one_hots).to(torch.float32)\n",
    "\n",
    "outputs = net(inputs)\n",
    "cm = confusion_matrix(outputs.argmax(axis=1) , labels.argmax(axis=1), labels=[i for i in range(10)] ) # TODO check if labels are assigned correctly\n",
    "disp = ConfusionMatrixDisplay(confusion_matrix=cm, display_labels=[i for i in range(10)]) # TODO check if labels are assigned correctly\n",
    "\n",
    "disp.plot();"
   ]
  },
  {
   "cell_type": "code",
   "execution_count": null,
   "id": "f542be69",
   "metadata": {},
   "outputs": [],
   "source": [
    "test_df = pd.read_csv('archive/mnist_test.csv')\n",
    "X_test = test_df.iloc[:, 1:]\n",
    "assert not'label' in X_test.columns\n",
    "X_test = X_test.to_numpy()\n",
    "y_test = test_df['label']"
   ]
  },
  {
   "cell_type": "code",
   "execution_count": 159,
   "id": "371ce39f",
   "metadata": {},
   "outputs": [
    {
     "name": "stderr",
     "output_type": "stream",
     "text": [
      "/opt/anaconda3/lib/python3.8/site-packages/torch/nn/functional.py:1967: UserWarning: nn.functional.sigmoid is deprecated. Use torch.sigmoid instead.\n",
      "  warnings.warn(\"nn.functional.sigmoid is deprecated. Use torch.sigmoid instead.\")\n",
      "<ipython-input-145-0860eca73b57>:15: UserWarning: Implicit dimension choice for softmax has been deprecated. Change the call to include dim=X as an argument.\n",
      "  x = F.softmax(self.fc3(x))\n"
     ]
    },
    {
     "data": {
      "image/png": "[encoded data removed]",
      "text/plain": [
       "<Figure size 432x288 with 2 Axes>"
      ]
     },
     "metadata": {
      "needs_background": "light"
     },
     "output_type": "display_data"
    }
   ],
   "source": [
    "inputs_test = torch.tensor(X_test).to(torch.float32)\n",
    "\n",
    "outputs_test = net(inputs_test)\n",
    "\n",
    "cm = confusion_matrix(outputs_test.argmax(axis=1) , y_test, labels=[i for i in range(10)] ) # TODO check if labels are assigned correctly\n",
    "disp = ConfusionMatrixDisplay(confusion_matrix=cm, display_labels=[i for i in range(10)]) # TODO check if labels are assigned correctly\n",
    "\n",
    "disp.plot();"
   ]
  },
  {
   "cell_type": "code",
   "execution_count": null,
   "id": "c2fa9f2d",
   "metadata": {},
   "outputs": [],
   "source": []
  }
 ],
 "metadata": {
  "kernelspec": {
   "display_name": "Python 3",
   "language": "python",
   "name": "python3"
  },
  "language_info": {
   "codemirror_mode": {
    "name": "ipython",
    "version": 3
   },
   "file_extension": ".py",
   "mimetype": "text/x-python",
   "name": "python",
   "nbconvert_exporter": "python",
   "pygments_lexer": "ipython3",
   "version": "3.8.5"
  }
 },
 "nbformat": 4,
 "nbformat_minor": 5
}
