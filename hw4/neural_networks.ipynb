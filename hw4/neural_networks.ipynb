{
 "cells": [
  {
   "cell_type": "code",
   "execution_count": 1,
   "id": "e7f5d861",
   "metadata": {},
   "outputs": [],
   "source": [
    "import numpy as np\n",
    "import pandas as pd\n",
    "import matplotlib.pyplot as plt"
   ]
  },
  {
   "cell_type": "code",
   "execution_count": 2,
   "id": "2501b863",
   "metadata": {},
   "outputs": [],
   "source": [
    "class CrossEntropyLoss:\n",
    "    @staticmethod\n",
    "    def loss(y_pred, y_true):\n",
    "        return -(y_true*np.log(y_pred)).sum()\n",
    "\n",
    "    @staticmethod\n",
    "    def loss_(y_pred, y_true):\n",
    "        return -y_true/y_pred\n",
    "\n",
    "class Sigmoid:\n",
    "    @staticmethod\n",
    "    def apply(x):\n",
    "        return 1/(1+np.exp(-x))\n",
    "\n",
    "    @staticmethod\n",
    "    def apply_(x):\n",
    "        # calculate the derivative of the sigmoid funciton\n",
    "        return np.outer(x, (1 - x))\n",
    "    \n",
    "class Softmax:\n",
    "    @staticmethod\n",
    "    def apply(x):\n",
    "        return np.exp(x)/(np.exp(x).sum())\n",
    "    \n",
    "    def apply_(x): \n",
    "        return np.eye(x.shape[0]) * x - np.outer(x, x)"
   ]
  },
  {
   "cell_type": "code",
   "execution_count": 3,
   "id": "f3300a02",
   "metadata": {},
   "outputs": [],
   "source": [
    "class Layer:\n",
    "    def __init__(self, weights, bias=None, activation_function=Sigmoid):\n",
    "        self.weights = weights\n",
    "        self.act_func = activation_function\n",
    "\n",
    "\n",
    "    def apply(self, x_in):\n",
    "        # calculate the layer output given x_in using layer weights and bias\n",
    "        # save x_in and x_out for backwards pass\n",
    "        x_out = np.dot(self.weights, x_in) #+ self.bias\n",
    "        self.x_out = x_out\n",
    "        self.x_in = x_in\n",
    "        return self.act_func.apply(x_out)\n"
   ]
  },
  {
   "cell_type": "code",
   "execution_count": 4,
   "id": "870c9be3",
   "metadata": {},
   "outputs": [],
   "source": [
    "class Network:\n",
    "    # initialize the network with the given layers\n",
    "    def __init__(self, layers=None, loss_func=CrossEntropyLoss):\n",
    "        if layers is None:\n",
    "            self.layers = []\n",
    "        else:\n",
    "            self.layers = layers\n",
    "        self.check_size_layers()\n",
    "        self.lossfunc = loss_func\n",
    "\n",
    "\n",
    "    def forward(self, x):\n",
    "        # do a forwark pass of the network on the given input\n",
    "        x_out = self.layers[0].apply(x)\n",
    "        for i in range(1, len(self.layers)):\n",
    "            x_out = self.layers[i].apply(x_out)\n",
    "        return x_out\n",
    "\n",
    "    def forward_multiple_input(self, multiple_x):\n",
    "        # performs multiple input\n",
    "        multiple_x_out = []\n",
    "        for j in range(len(multiple_x)):\n",
    "            multiple_x_out.append(self.forward(multiple_x[j]))\n",
    "        return multiple_x_out\n",
    "    \n",
    "\n",
    "    def check_size_layers(self):\n",
    "        # check the correct sizes of weights between layers\n",
    "        for i in range(1, len(self.layers)):\n",
    "            if self.layers[i-1].weights.shape[0] != self.layers[i].weights.shape[1]:\n",
    "                raise ValueError('Incorrect sizes of layers',\n",
    "                                self.layers[i-1].weights.shape, 'vs', self.layers[i].weights.shape)\n",
    "\n",
    "\n",
    "    def train(self, inputs, outputs, epochs=1, learning_rate=0.1):\n",
    "        print('inputs', inputs.shape, 'outputs', outputs.shape)\n",
    "        loss=0\n",
    "        for epoch in range(epochs):\n",
    "            loss=0\n",
    "            for i_out in range(len(inputs)):            \n",
    "                y_pred = np.array(self.forward(inputs[i_out]))\n",
    "                loss = CrossEntropyLoss.loss(y_pred, outputs[i_out])\n",
    "                loss_ = CrossEntropyLoss.loss_(y_pred, outputs[i_out])\n",
    "\n",
    "                softmax_der = (np.eye(y_pred.shape[0]) * y_pred - np.outer(y_pred, y_pred))\n",
    "                downstream_grad = loss_ @ softmax_der\n",
    "                w3up = np.outer(downstream_grad, self.layers[2].x_in)\n",
    "\n",
    "                sigmoid_der = np.outer(self.layers[2].x_in, (1 - self.layers[2].x_in ))\n",
    "                downstream_grad = (downstream_grad @ self.layers[2].weights @ sigmoid_der)\n",
    "                w2up = np.outer(downstream_grad, self.layers[1].x_in)\n",
    "\n",
    "                sigmoid_der = np.outer(self.layers[1].x_in, (1 - self.layers[1].x_in ))\n",
    "                downstream_grad = (downstream_grad @ self.layers[1].weights @ sigmoid_der)\n",
    "                w1up = np.outer(downstream_grad, self.layers[0].x_in)\n",
    "\n",
    "                loss += loss/inputs.shape[0] \n",
    "\n",
    "                self.layers[2].weights -= w3up * learning_rate\n",
    "                self.layers[1].weights -= w2up * learning_rate\n",
    "                self.layers[0].weights -= w1up * learning_rate\n",
    "\n",
    "            if epoch %(epochs/10) == 0:\n",
    "                print(epoch, 'CrossEntropyLoss', loss)"
   ]
  },
  {
   "cell_type": "code",
   "execution_count": 5,
   "id": "d0649ea5",
   "metadata": {},
   "outputs": [],
   "source": [
    "def calculate_accuracy(predict_proba, y):\n",
    "    \"\"\"\n",
    "    Calculates the accuracy of the prediction\n",
    "    :param predict_proba: the probabilities of each class\n",
    "    :param y:  true labels\n",
    "    :return: acc accuracy\n",
    "    \"\"\"\n",
    "    y_pred = predict_proba.argmax(axis=1)\n",
    "    acc = (y_pred == y).sum() / y.shape[0]\n",
    "    return acc"
   ]
  },
  {
   "cell_type": "code",
   "execution_count": 6,
   "id": "702183cd",
   "metadata": {},
   "outputs": [],
   "source": [
    "train_df = pd.read_csv('archive/mnist_train.csv')"
   ]
  },
  {
   "cell_type": "code",
   "execution_count": 7,
   "id": "6fd90c7b",
   "metadata": {},
   "outputs": [],
   "source": [
    "X = train_df.iloc[:, 1:]\n",
    "assert not'label' in X.columns\n",
    "X = X.to_numpy()\n",
    "y = train_df['label']"
   ]
  },
  {
   "cell_type": "code",
   "execution_count": 8,
   "id": "b4c5f453",
   "metadata": {},
   "outputs": [
    {
     "data": {
      "text/plain": [
       "(60000, 784)"
      ]
     },
     "execution_count": 8,
     "metadata": {},
     "output_type": "execute_result"
    }
   ],
   "source": [
    "X.shape"
   ]
  },
  {
   "cell_type": "code",
   "execution_count": 9,
   "id": "c96de5af",
   "metadata": {},
   "outputs": [
    {
     "name": "stdout",
     "output_type": "stream",
     "text": [
      "Accuracy: 0.09736666666666667\n"
     ]
    }
   ],
   "source": [
    "# Creating network\n",
    "weights = np.random.normal(size=(300, X.shape[1]))/X.shape[1]\n",
    "l1 = Layer(weights, None, Sigmoid)\n",
    "weights = np.random.normal(size=(200, 300))/X.shape[1]\n",
    "l2 = Layer(weights, None, Sigmoid)\n",
    "weights = np.random.normal(size=(10, 200))/X.shape[1]\n",
    "l3 = Layer(weights, None, Softmax)\n",
    "net = Network([l1, l2, l3])\n",
    "\n",
    "# Calculating accuracy\n",
    "predict_proba = np.array(net.forward_multiple_input(X))\n",
    "acc = calculate_accuracy(predict_proba, y)\n",
    "print('Accuracy:', acc)"
   ]
  },
  {
   "cell_type": "code",
   "execution_count": 10,
   "id": "4dce2ff8",
   "metadata": {},
   "outputs": [],
   "source": [
    "one_hots = []\n",
    "for yi in y:\n",
    "    one_hots.append([1 if _==yi else 0 for _ in range(10)])\n",
    "one_hots = np.array(one_hots)"
   ]
  },
  {
   "cell_type": "code",
   "execution_count": 11,
   "id": "7a0b4518",
   "metadata": {},
   "outputs": [
    {
     "name": "stdout",
     "output_type": "stream",
     "text": [
      "inputs (1000, 784) outputs (1000, 10)\n",
      "0 CrossEntropyLoss 2.328600808484841\n",
      "1 CrossEntropyLoss 2.344138534380277\n"
     ]
    },
    {
     "name": "stderr",
     "output_type": "stream",
     "text": [
      "<ipython-input-2-398ccaff616a>:13: RuntimeWarning: overflow encountered in exp\n",
      "  return 1/(1+np.exp(-x))\n"
     ]
    },
    {
     "name": "stdout",
     "output_type": "stream",
     "text": [
      "2 CrossEntropyLoss 2.3659026842924042\n",
      "3 CrossEntropyLoss 2.3982523222765444\n",
      "4 CrossEntropyLoss 2.4341850096790965\n",
      "Accuracy: 0.10441666666666667\n"
     ]
    }
   ],
   "source": [
    "net.train(X[:1000], one_hots[:1000], 5, 0.0001)\n",
    "predict_proba = np.array(net.forward_multiple_input(X))\n",
    "acc = calculate_accuracy(predict_proba, y)\n",
    "print('Accuracy:', acc)"
   ]
  },
  {
   "cell_type": "code",
   "execution_count": 13,
   "id": "0e2ba456",
   "metadata": {},
   "outputs": [
    {
     "name": "stdout",
     "output_type": "stream",
     "text": [
      "0 2.0364842354659123\n"
     ]
    },
    {
     "name": "stderr",
     "output_type": "stream",
     "text": [
      "<ipython-input-2-398ccaff616a>:13: RuntimeWarning: overflow encountered in exp\n",
      "  return 1/(1+np.exp(-x))\n"
     ]
    },
    {
     "name": "stdout",
     "output_type": "stream",
     "text": [
      "3000 2.227971571064735\n",
      "6000 2.202462393300575\n",
      "9000 2.0064708308066845\n",
      "12000 2.4493336721443004\n",
      "15000 2.485869876906077\n",
      "18000 2.4716762551642057\n",
      "21000 2.438414214821667\n",
      "24000 1.8382797825267896\n",
      "27000 2.4315655870483353\n",
      "30000 2.0945711226077712\n",
      "33000 2.4446026388250965\n",
      "36000 2.4392274725735072\n",
      "39000 2.0578890812746966\n",
      "42000 2.1857798532130355\n",
      "45000 2.1831883402280594\n",
      "48000 2.431041129735351\n",
      "51000 2.427262485359629\n",
      "54000 1.9965623690321421\n",
      "57000 2.4277814957399864\n",
      "60000 1.8425869607422853\n",
      "63000 2.4745463862920376\n",
      "66000 2.4431906990181123\n",
      "69000 2.483525164117176\n",
      "72000 1.9910831158429945\n",
      "75000 2.4738866346880024\n",
      "78000 1.844522206373673\n",
      "81000 2.0682519267356048\n",
      "84000 1.9885169761165238\n",
      "87000 2.42798926216092\n",
      "90000 2.390344271468608\n",
      "93000 2.183900603786315\n",
      "96000 2.211653747697645\n",
      "99000 2.207984416334086\n",
      "102000 2.4432034248896084\n",
      "105000 2.1944870953777897\n",
      "108000 2.4438801276292437\n",
      "111000 2.087758205386979\n",
      "114000 2.398009059027584\n",
      "117000 2.480874677635234\n",
      "120000 2.444296675365494\n",
      "123000 2.202911804657187\n",
      "126000 2.443079490036498\n",
      "129000 2.468430175140357\n",
      "132000 2.453527161349869\n",
      "135000 2.2012077302483797\n",
      "138000 1.9141401885801095\n",
      "141000 2.2194223494704133\n",
      "144000 2.4265740968303184\n",
      "147000 2.4258272547040094\n",
      "150000 2.183619948767082\n",
      "153000 2.4294216786763076\n",
      "156000 2.3945518524941347\n",
      "159000 2.475693520315144\n",
      "162000 2.210426211502601\n",
      "165000 1.8525850573344997\n",
      "168000 2.5482422175243484\n",
      "171000 2.4424285407095416\n",
      "174000 2.392886540384208\n",
      "177000 2.4264848729773134\n",
      "180000 2.443812017563255\n",
      "183000 2.426682203997323\n",
      "186000 2.4561558919212185\n",
      "189000 2.449469724296535\n",
      "192000 2.0871040617152596\n",
      "195000 2.1852467139085654\n",
      "198000 2.4321186416231013\n",
      "201000 2.4307213774639718\n",
      "204000 2.393182009526436\n",
      "207000 2.2165930802378333\n",
      "210000 2.396143960388937\n",
      "213000 2.4675190501631654\n",
      "216000 2.4496822885795244\n",
      "219000 2.4486726306358015\n",
      "222000 2.439053488076547\n",
      "225000 2.433686795185984\n",
      "228000 2.431517996371508\n",
      "231000 2.395123349674763\n",
      "234000 1.8599403761782445\n",
      "237000 2.4648633020711275\n",
      "240000 2.0146036744537614\n",
      "243000 2.3964169534838695\n",
      "246000 2.3950668425598987\n",
      "249000 2.180111030254642\n",
      "252000 2.4335411357294374\n",
      "255000 2.431822427265072\n",
      "258000 2.015841718191639\n",
      "261000 2.4140497907309997\n",
      "264000 2.4707138179056263\n",
      "267000 2.4567122513073043\n",
      "270000 2.4285151497178363\n",
      "273000 2.215517262969933\n",
      "276000 2.4550211121463263\n",
      "279000 2.434256558054016\n",
      "282000 2.177055416159173\n",
      "285000 2.4350586730994563\n",
      "288000 2.399092882392463\n",
      "291000 1.865390588457017\n",
      "294000 2.408606992484363\n",
      "297000 2.439319135891668\n"
     ]
    }
   ],
   "source": [
    "learning_rate = 0.01\n",
    "learning_rate /= X.shape[0]\n",
    "epochs = 5\n",
    "for _ in range(epochs*X.shape[0]):\n",
    "    row = np.random.randint(X.shape[0])\n",
    "    y_pred = np.array(net.forward(X[row]))\n",
    "    loss_ = CrossEntropyLoss.loss_(y_pred, one_hots[row])\n",
    "    loss = CrossEntropyLoss.loss(y_pred, one_hots[row])\n",
    "\n",
    "    softmax_der = (np.eye(y_pred.shape[0]) * y_pred - np.outer(y_pred, y_pred))\n",
    "    downstream_grad = loss_ @ softmax_der\n",
    "    w3up = np.outer(downstream_grad, l3.x_in)\n",
    "\n",
    "    sigmoid_der = np.outer(l3.x_in, (1 - l3.x_in ))\n",
    "    downstream_grad = (downstream_grad @ l3.weights @ sigmoid_der)\n",
    "    w2up = np.outer(downstream_grad, l2.x_in)\n",
    "\n",
    "    sigmoid_der = np.outer(l2.x_in, (1 - l2.x_in ))\n",
    "    downstream_grad = (downstream_grad @ l2.weights @ sigmoid_der)\n",
    "    w1up = np.outer(downstream_grad, l1.x_in)\n",
    "\n",
    "    l1 = Layer(l1.weights - w1up*learning_rate, None, Sigmoid)\n",
    "    l2 = Layer(l2.weights - w2up*learning_rate, None, Sigmoid)\n",
    "    l3 = Layer(l3.weights - w3up*learning_rate, None, Softmax)\n",
    "    net = Network([l1, l2, l3])\n",
    "    \n",
    "    if _ % 3000 == 0:\n",
    "        print(_, loss)"
   ]
  },
  {
   "cell_type": "markdown",
   "id": "066e2735",
   "metadata": {},
   "source": [
    "# USING PYTORCH"
   ]
  },
  {
   "cell_type": "code",
   "execution_count": 14,
   "id": "b3047e70",
   "metadata": {},
   "outputs": [],
   "source": [
    "import torch\n",
    "import torch.nn as nn\n",
    "import torch.nn.functional as F\n",
    "import torch.optim as optim"
   ]
  },
  {
   "cell_type": "code",
   "execution_count": 43,
   "id": "5585bb68",
   "metadata": {},
   "outputs": [],
   "source": [
    "class Net(nn.Module):\n",
    "    def __init__(self):\n",
    "        super().__init__()\n",
    "        self.fc1 = nn.Linear(784, 400)\n",
    "        self.fc2 = nn.Linear(400, 200)\n",
    "        self.fc3 = nn.Linear(200, 10)\n",
    "        \n",
    "        self.apply(self._init_weights)\n",
    "    def _init_weights(self, module):\n",
    "        if isinstance(module, nn.Embedding):\n",
    "            module.weight.data.normal_(mean=0.0, std=1.0)\n",
    "#             module.weight.data.uniform_(-1, 1)\n",
    "#             module.weight.data.fill_(0)\n",
    "        elif isinstance(module, nn.LayerNorm):\n",
    "            module.weight.data.fill_(0)\n",
    "\n",
    "\n",
    "    def forward(self, x):\n",
    "        x = torch.sigmoid(self.fc1(x))\n",
    "        x = torch.sigmoid(self.fc2(x))\n",
    "        x = F.softmax(self.fc3(x))\n",
    "        return x\n",
    "\n",
    "\n",
    "net = Net()"
   ]
  },
  {
   "cell_type": "code",
   "execution_count": 44,
   "id": "ead8ac34",
   "metadata": {},
   "outputs": [
    {
     "name": "stdout",
     "output_type": "stream",
     "text": [
      "epoch: 0/20\n"
     ]
    },
    {
     "name": "stderr",
     "output_type": "stream",
     "text": [
      "<ipython-input-43-e2ba0363594b>:21: UserWarning: Implicit dimension choice for softmax has been deprecated. Change the call to include dim=X as an argument.\n",
      "  x = F.softmax(self.fc3(x))\n"
     ]
    },
    {
     "name": "stdout",
     "output_type": "stream",
     "text": [
      "epoch: 1/20\n",
      "epoch: 2/20\n",
      "epoch: 3/20\n",
      "epoch: 4/20\n",
      "epoch: 5/20\n",
      "epoch: 6/20\n",
      "epoch: 7/20\n",
      "epoch: 8/20\n",
      "epoch: 9/20\n",
      "epoch: 10/20\n",
      "epoch: 11/20\n",
      "epoch: 12/20\n",
      "epoch: 13/20\n",
      "epoch: 14/20\n",
      "epoch: 15/20\n",
      "epoch: 16/20\n",
      "epoch: 17/20\n",
      "epoch: 18/20\n",
      "epoch: 19/20\n",
      "Finished Training\n"
     ]
    }
   ],
   "source": [
    "total_epochs = 20\n",
    "batch = 64\n",
    "criterion = nn.CrossEntropyLoss()\n",
    "optimizer = optim.SGD(net.parameters(), lr=0.01)\n",
    "\n",
    "losses_gauss = []\n",
    "for epoch in range(total_epochs):  # loop over the dataset multiple times\n",
    "    print(\"epoch: {}/{}\".format(epoch, total_epochs))\n",
    "    running_loss = 0.0\n",
    "    for batch_i in range(0, X.shape[0], batch):\n",
    "        inputs = torch.tensor(X[batch_i:batch_i + batch]).to(torch.float32)\n",
    "        labels = torch.tensor(one_hots[batch_i:batch_i + batch]).to(torch.float32)\n",
    "\n",
    "        # zero the parameter gradients\n",
    "        optimizer.zero_grad()\n",
    "\n",
    "        # forward + backward + optimize\n",
    "        outputs = net(inputs)\n",
    "        loss = criterion(outputs, labels)\n",
    "        losses_gauss.append(loss.item())\n",
    "        loss.backward()\n",
    "        optimizer.step()\n",
    "\n",
    "#         # print statistics\n",
    "#         running_loss += loss.item()\n",
    "#         if batch_i % 50000 == 0:    # print every 2000 mini-batches\n",
    "#             print(f'[{epoch + 1}, {batch_i + 1:5d}] loss: {running_loss / 2000:.3f}')\n",
    "#             running_loss = 0.0\n",
    "\n",
    "print('Finished Training')"
   ]
  },
  {
   "cell_type": "code",
   "execution_count": 53,
   "id": "85580ca8",
   "metadata": {},
   "outputs": [],
   "source": [
    "from sklearn.metrics import confusion_matrix, ConfusionMatrixDisplay"
   ]
  },
  {
   "cell_type": "code",
   "execution_count": 46,
   "id": "530b7164",
   "metadata": {},
   "outputs": [
    {
     "name": "stderr",
     "output_type": "stream",
     "text": [
      "<ipython-input-43-e2ba0363594b>:21: UserWarning: Implicit dimension choice for softmax has been deprecated. Change the call to include dim=X as an argument.\n",
      "  x = F.softmax(self.fc3(x))\n"
     ]
    },
    {
     "data": {
      "image/png": "[encoded data removed]",
      "text/plain": [
       "<Figure size 432x288 with 2 Axes>"
      ]
     },
     "metadata": {
      "needs_background": "light"
     },
     "output_type": "display_data"
    }
   ],
   "source": [
    "inputs = torch.tensor(X).to(torch.float32)\n",
    "labels = torch.tensor(one_hots).to(torch.float32)\n",
    "\n",
    "outputs = net(inputs)\n",
    "cm = confusion_matrix(labels.argmax(axis=1), outputs.argmax(axis=1) , labels=[i for i in range(10)] ) # TODO check if labels are assigned correctly\n",
    "disp = ConfusionMatrixDisplay(confusion_matrix=cm, display_labels=[i for i in range(10)]) # TODO check if labels are assigned correctly\n",
    "\n",
    "disp.plot();"
   ]
  },
  {
   "cell_type": "code",
   "execution_count": 47,
   "id": "91835ba4",
   "metadata": {},
   "outputs": [],
   "source": [
    "test_df = pd.read_csv('archive/mnist_test.csv')\n",
    "X_test = test_df.iloc[:, 1:]\n",
    "assert not'label' in X_test.columns\n",
    "X_test = X_test.to_numpy()\n",
    "y_test = test_df['label']"
   ]
  },
  {
   "cell_type": "code",
   "execution_count": 48,
   "id": "2eb02788",
   "metadata": {},
   "outputs": [
    {
     "name": "stderr",
     "output_type": "stream",
     "text": [
      "<ipython-input-43-e2ba0363594b>:21: UserWarning: Implicit dimension choice for softmax has been deprecated. Change the call to include dim=X as an argument.\n",
      "  x = F.softmax(self.fc3(x))\n"
     ]
    },
    {
     "data": {
      "image/png": "[encoded data removed]",
      "text/plain": [
       "<Figure size 432x288 with 2 Axes>"
      ]
     },
     "metadata": {
      "needs_background": "light"
     },
     "output_type": "display_data"
    }
   ],
   "source": [
    "inputs_test = torch.tensor(X_test).to(torch.float32)\n",
    "\n",
    "outputs_test = net(inputs_test)\n",
    "\n",
    "cm = confusion_matrix(y_test, outputs_test.argmax(axis=1), labels=[i for i in range(10)] ) # TODO check if labels are assigned correctly\n",
    "disp = ConfusionMatrixDisplay(confusion_matrix=cm, display_labels=[i for i in range(10)]) # TODO check if labels are assigned correctly\n",
    "\n",
    "disp.plot();"
   ]
  },
  {
   "cell_type": "code",
   "execution_count": 65,
   "id": "dec89be3",
   "metadata": {},
   "outputs": [
    {
     "data": {
      "image/png": "[encoded data removed]",
      "text/plain": [
       "<Figure size 432x288 with 1 Axes>"
      ]
     },
     "metadata": {
      "needs_background": "light"
     },
     "output_type": "display_data"
    }
   ],
   "source": [
    "plt.figure()\n",
    "plt.plot(losses_gauss)\n",
    "plt.plot(losses_df['gauss'].rolling(window=50).mean(), label= 'mean error')\n",
    "plt.legend()\n",
    "plt.show();"
   ]
  },
  {
   "cell_type": "code",
   "execution_count": null,
   "id": "84dff91a",
   "metadata": {},
   "outputs": [],
   "source": [
    "losses_df = pd.DataFrame([losses_gauss, losses_uniform, losses_zero], index=['gauss', 'uniform', 'zero']).T\n",
    "\n",
    "mean_losses = losses_df.rolling(window=50).mean()\n",
    "mean_losses.plot(title='mean losses for different weight initialization');"
   ]
  },
  {
   "cell_type": "code",
   "execution_count": 66,
   "id": "c8fb1109",
   "metadata": {},
   "outputs": [
    {
     "name": "stdout",
     "output_type": "stream",
     "text": [
      "epoch: 0/20\n"
     ]
    },
    {
     "name": "stderr",
     "output_type": "stream",
     "text": [
      "<ipython-input-66-13ad5b63645f>:20: UserWarning: Implicit dimension choice for softmax has been deprecated. Change the call to include dim=X as an argument.\n",
      "  x = F.softmax(self.fc3(x))\n"
     ]
    },
    {
     "name": "stdout",
     "output_type": "stream",
     "text": [
      "epoch: 1/20\n",
      "epoch: 2/20\n",
      "epoch: 3/20\n",
      "epoch: 4/20\n",
      "epoch: 5/20\n",
      "epoch: 6/20\n",
      "epoch: 7/20\n",
      "epoch: 8/20\n",
      "epoch: 9/20\n",
      "epoch: 10/20\n",
      "epoch: 11/20\n",
      "epoch: 12/20\n",
      "epoch: 13/20\n",
      "epoch: 14/20\n",
      "epoch: 15/20\n",
      "epoch: 16/20\n",
      "epoch: 17/20\n",
      "epoch: 18/20\n",
      "epoch: 19/20\n",
      "Finished Training\n"
     ]
    }
   ],
   "source": [
    "class Net(nn.Module):\n",
    "    def __init__(self):\n",
    "        super().__init__()\n",
    "        self.fc1 = nn.Linear(784, 400)\n",
    "        self.fc2 = nn.Linear(400, 200)\n",
    "        self.fc3 = nn.Linear(200, 10)\n",
    "        \n",
    "        self.apply(self._init_weights)\n",
    "    def _init_weights(self, module):\n",
    "        if isinstance(module, nn.Embedding):\n",
    "#             module.weight.data.normal_(mean=0.0, std=1.0)\n",
    "            module.weight.data.uniform_(-1, 1)\n",
    "#             module.weight.data.fill_(0)\n",
    "        elif isinstance(module, nn.LayerNorm):\n",
    "            module.weight.data.fill_(0)\n",
    "\n",
    "    def forward(self, x):\n",
    "        x = torch.sigmoid(self.fc1(x))\n",
    "        x = torch.sigmoid(self.fc2(x))\n",
    "        x = F.softmax(self.fc3(x))\n",
    "        return x\n",
    "\n",
    "\n",
    "net = Net()\n",
    "\n",
    "total_epochs = 20\n",
    "criterion = nn.CrossEntropyLoss()\n",
    "optimizer = optim.SGD(net.parameters(), lr=0.01)\n",
    "\n",
    "losses_uniform = []\n",
    "for epoch in range(total_epochs):  # loop over the dataset multiple times\n",
    "    print(\"epoch: {}/{}\".format(epoch, total_epochs))\n",
    "    running_loss = 0.0\n",
    "    for batch_i in range(0, X.shape[0], batch):\n",
    "        inputs = torch.tensor(X[batch_i:batch_i + batch]).to(torch.float32)\n",
    "        labels = torch.tensor(one_hots[batch_i:batch_i + batch]).to(torch.float32)\n",
    "\n",
    "        # zero the parameter gradients\n",
    "        optimizer.zero_grad()\n",
    "\n",
    "        # forward + backward + optimize\n",
    "        outputs = net(inputs)\n",
    "        loss = criterion(outputs, labels)\n",
    "        losses_uniform.append(loss.item())\n",
    "        loss.backward()\n",
    "        optimizer.step()\n",
    "\n",
    "#         # print statistics\n",
    "#         running_loss += loss.item()\n",
    "#         if batch_i % 50000 == 0:    # print every 2000 mini-batches\n",
    "#             print(f'[{epoch + 1}, {batch_i + 1:5d}] loss: {running_loss / 2000:.3f}')\n",
    "#             running_loss = 0.0\n",
    "\n",
    "print('Finished Training')"
   ]
  },
  {
   "cell_type": "code",
   "execution_count": 67,
   "id": "8d197e51",
   "metadata": {},
   "outputs": [
    {
     "name": "stderr",
     "output_type": "stream",
     "text": [
      "<ipython-input-66-13ad5b63645f>:20: UserWarning: Implicit dimension choice for softmax has been deprecated. Change the call to include dim=X as an argument.\n",
      "  x = F.softmax(self.fc3(x))\n"
     ]
    },
    {
     "data": {
      "image/png": "[encoded data removed]",
      "text/plain": [
       "<Figure size 432x288 with 2 Axes>"
      ]
     },
     "metadata": {
      "needs_background": "light"
     },
     "output_type": "display_data"
    }
   ],
   "source": [
    "inputs_test = torch.tensor(X_test).to(torch.float32)\n",
    "\n",
    "outputs_test = net(inputs_test)\n",
    "\n",
    "cm = confusion_matrix(y_test, outputs_test.argmax(axis=1), labels=[i for i in range(10)] ) # TODO check if labels are assigned correctly\n",
    "disp = ConfusionMatrixDisplay(confusion_matrix=cm, display_labels=[i for i in range(10)]) # TODO check if labels are assigned correctly\n",
    "\n",
    "disp.plot();"
   ]
  },
  {
   "cell_type": "code",
   "execution_count": 68,
   "id": "3f188a00",
   "metadata": {},
   "outputs": [
    {
     "name": "stdout",
     "output_type": "stream",
     "text": [
      "epoch: 0/20\n"
     ]
    },
    {
     "name": "stderr",
     "output_type": "stream",
     "text": [
      "<ipython-input-68-45b440c02247>:20: UserWarning: Implicit dimension choice for softmax has been deprecated. Change the call to include dim=X as an argument.\n",
      "  x = F.softmax(self.fc3(x))\n"
     ]
    },
    {
     "name": "stdout",
     "output_type": "stream",
     "text": [
      "epoch: 1/20\n",
      "epoch: 2/20\n",
      "epoch: 3/20\n",
      "epoch: 4/20\n",
      "epoch: 5/20\n",
      "epoch: 6/20\n",
      "epoch: 7/20\n",
      "epoch: 8/20\n",
      "epoch: 9/20\n",
      "epoch: 10/20\n",
      "epoch: 11/20\n",
      "epoch: 12/20\n",
      "epoch: 13/20\n",
      "epoch: 14/20\n",
      "epoch: 15/20\n",
      "epoch: 16/20\n",
      "epoch: 17/20\n",
      "epoch: 18/20\n",
      "epoch: 19/20\n",
      "Finished Training\n"
     ]
    }
   ],
   "source": [
    "class Net(nn.Module):\n",
    "    def __init__(self):\n",
    "        super().__init__()\n",
    "        self.fc1 = nn.Linear(784, 400)\n",
    "        self.fc2 = nn.Linear(400, 200)\n",
    "        self.fc3 = nn.Linear(200, 10)\n",
    "        \n",
    "        self.apply(self._init_weights)\n",
    "    def _init_weights(self, module):\n",
    "        if isinstance(module, nn.Linear):\n",
    "#             module.weight.data.normal_(mean=0.0, std=1.0)\n",
    "#             module.weight.data.uniform_(-1, 1)\n",
    "            module.weight.data.fill_(0)\n",
    "#         elif isinstance(module, nn.LayerNorm):\n",
    "#             module.weight.data.fill_(0)\n",
    "\n",
    "    def forward(self, x):\n",
    "        x = torch.sigmoid(self.fc1(x))\n",
    "        x = torch.sigmoid(self.fc2(x))\n",
    "        x = F.softmax(self.fc3(x))\n",
    "        return x\n",
    "\n",
    "\n",
    "net = Net()\n",
    "\n",
    "total_epochs = 20\n",
    "criterion = nn.CrossEntropyLoss()\n",
    "optimizer = optim.SGD(net.parameters(), lr=0.01)\n",
    "\n",
    "losses_zero = []\n",
    "for epoch in range(total_epochs):  # loop over the dataset multiple times\n",
    "    print(\"epoch: {}/{}\".format(epoch, total_epochs))\n",
    "    running_loss = 0.0\n",
    "    for batch_i in range(0, X.shape[0], batch):\n",
    "        inputs = torch.tensor(X[batch_i:batch_i + batch]).to(torch.float32)\n",
    "        labels = torch.tensor(one_hots[batch_i:batch_i + batch]).to(torch.float32)\n",
    "\n",
    "        # zero the parameter gradients\n",
    "        optimizer.zero_grad()\n",
    "\n",
    "        # forward + backward + optimize\n",
    "        outputs = net(inputs)\n",
    "        loss = criterion(outputs, labels)\n",
    "        losses_zero.append(loss.item())\n",
    "        loss.backward()\n",
    "        optimizer.step()\n",
    "\n",
    "#         # print statistics\n",
    "#         running_loss += loss.item()\n",
    "#         if batch_i % 50000 == 0:    # print every 2000 mini-batches\n",
    "#             print(f'[{epoch + 1}, {batch_i + 1:5d}] loss: {running_loss / 2000:.3f}')\n",
    "#             running_loss = 0.0\n",
    "\n",
    "print('Finished Training')"
   ]
  },
  {
   "cell_type": "code",
   "execution_count": 69,
   "id": "2d8b4994",
   "metadata": {},
   "outputs": [
    {
     "name": "stderr",
     "output_type": "stream",
     "text": [
      "<ipython-input-68-45b440c02247>:20: UserWarning: Implicit dimension choice for softmax has been deprecated. Change the call to include dim=X as an argument.\n",
      "  x = F.softmax(self.fc3(x))\n"
     ]
    },
    {
     "data": {
      "image/png": "[encoded data removed]",
      "text/plain": [
       "<Figure size 432x288 with 2 Axes>"
      ]
     },
     "metadata": {
      "needs_background": "light"
     },
     "output_type": "display_data"
    }
   ],
   "source": [
    "inputs_test = torch.tensor(X_test).to(torch.float32)\n",
    "\n",
    "outputs_test = net(inputs_test)\n",
    "\n",
    "cm = confusion_matrix(y_test, outputs_test.argmax(axis=1), labels=[i for i in range(10)] ) # TODO check if labels are assigned correctly\n",
    "disp = ConfusionMatrixDisplay(confusion_matrix=cm, display_labels=[i for i in range(10)]) # TODO check if labels are assigned correctly\n",
    "\n",
    "disp.plot();"
   ]
  },
  {
   "cell_type": "code",
   "execution_count": 70,
   "id": "99dcd8c8",
   "metadata": {},
   "outputs": [
    {
     "data": {
      "image/png": "[encoded data removed]",
      "text/plain": [
       "<Figure size 432x288 with 1 Axes>"
      ]
     },
     "metadata": {
      "needs_background": "light"
     },
     "output_type": "display_data"
    }
   ],
   "source": [
    "losses_df = pd.DataFrame([losses_gauss, losses_uniform, losses_zero], index=['gauss', 'uniform', 'zero']).T\n",
    "\n",
    "mean_losses = losses_df.rolling(window=50).mean()\n",
    "mean_losses.plot(title='mean losses for different weight initialization');\n"
   ]
  },
  {
   "cell_type": "code",
   "execution_count": null,
   "id": "c2fa9f2d",
   "metadata": {},
   "outputs": [],
   "source": []
  },
  {
   "cell_type": "code",
   "execution_count": null,
   "id": "0043f763",
   "metadata": {},
   "outputs": [],
   "source": []
  },
  {
   "cell_type": "code",
   "execution_count": null,
   "id": "6f517f26",
   "metadata": {},
   "outputs": [],
   "source": []
  },
  {
   "cell_type": "code",
   "execution_count": null,
   "id": "0ad153a6",
   "metadata": {},
   "outputs": [],
   "source": []
  },
  {
   "cell_type": "code",
   "execution_count": null,
   "id": "392a7fb5",
   "metadata": {},
   "outputs": [],
   "source": []
  }
 ],
 "metadata": {
  "kernelspec": {
   "display_name": "Python 3",
   "language": "python",
   "name": "python3"
  },
  "language_info": {
   "codemirror_mode": {
    "name": "ipython",
    "version": 3
   },
   "file_extension": ".py",
   "mimetype": "text/x-python",
   "name": "python",
   "nbconvert_exporter": "python",
   "pygments_lexer": "ipython3",
   "version": "3.8.5"
  }
 },
 "nbformat": 4,
 "nbformat_minor": 5
}
