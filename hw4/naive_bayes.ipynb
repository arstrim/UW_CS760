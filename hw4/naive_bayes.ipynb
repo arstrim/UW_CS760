{
 "cells": [
  {
   "cell_type": "code",
   "execution_count": 1,
   "id": "d0a2634f",
   "metadata": {},
   "outputs": [],
   "source": [
    "import pandas as pd\n",
    "import numpy as np\n",
    "import matplotlib.pyplot as plt\n",
    "from collections import Counter"
   ]
  },
  {
   "cell_type": "code",
   "execution_count": 2,
   "id": "fe594d95",
   "metadata": {},
   "outputs": [],
   "source": [
    "def get_letters_in_file(file_path):\n",
    "    with open(file_path) as f:\n",
    "            doc = f.read()\n",
    "\n",
    "    replace_chars = ['\\n', '\\t']\n",
    "    for r_char in replace_chars:\n",
    "        doc = doc.replace(r_char, '')\n",
    "    letters_dict = Counter(doc)\n",
    "    letters_dict['label'] = l\n",
    "    \n",
    "    return letters_dict"
   ]
  },
  {
   "cell_type": "code",
   "execution_count": 3,
   "id": "f25e41fd",
   "metadata": {},
   "outputs": [],
   "source": [
    "folder = 'languageID/'\n",
    "languages = ['e', 'j', 's']\n",
    "l_documents = []\n",
    "for l in languages:\n",
    "    for i in range(10):\n",
    "        file = l + str(i) +'.txt'\n",
    "        letters_dict = get_letters_in_file(folder + file)\n",
    "        \n",
    "        l_documents.append(letters_dict)"
   ]
  },
  {
   "cell_type": "code",
   "execution_count": 4,
   "id": "bf27544d",
   "metadata": {},
   "outputs": [],
   "source": [
    "df = pd.DataFrame(l_documents)"
   ]
  },
  {
   "cell_type": "code",
   "execution_count": 5,
   "id": "902f7dcd",
   "metadata": {},
   "outputs": [],
   "source": [
    "df.shape\n",
    "X = df.drop(['label'], axis=1)\n",
    "y = df['label']"
   ]
  },
  {
   "cell_type": "code",
   "execution_count": 6,
   "id": "d05115ed",
   "metadata": {},
   "outputs": [
    {
     "name": "stdout",
     "output_type": "stream",
     "text": [
      "PRIOR:\n",
      "j    0.333333\n",
      "e    0.333333\n",
      "s    0.333333\n",
      "Name: label, dtype: float64\n"
     ]
    }
   ],
   "source": [
    "alpha = 1/2\n",
    "Kl = 3 \n",
    "prior = (y.value_counts() + alpha) / (y.shape[0] + Kl*alpha)\n",
    "\n",
    "print('PRIOR:\\n' + str(prior))"
   ]
  },
  {
   "cell_type": "code",
   "execution_count": 7,
   "id": "bcc66bc8",
   "metadata": {},
   "outputs": [],
   "source": [
    "sortby = list(map(chr, range(97, 123))) + [' ']"
   ]
  },
  {
   "cell_type": "code",
   "execution_count": 8,
   "id": "8970e4e5",
   "metadata": {},
   "outputs": [
    {
     "data": {
      "text/html": [
       "<div>\n",
       "<style scoped>\n",
       "    .dataframe tbody tr th:only-of-type {\n",
       "        vertical-align: middle;\n",
       "    }\n",
       "\n",
       "    .dataframe tbody tr th {\n",
       "        vertical-align: top;\n",
       "    }\n",
       "\n",
       "    .dataframe thead th {\n",
       "        text-align: right;\n",
       "    }\n",
       "</style>\n",
       "<table border=\"1\" class=\"dataframe\">\n",
       "  <thead>\n",
       "    <tr style=\"text-align: right;\">\n",
       "      <th>label</th>\n",
       "      <th>e</th>\n",
       "      <th>j</th>\n",
       "      <th>s</th>\n",
       "    </tr>\n",
       "  </thead>\n",
       "  <tbody>\n",
       "    <tr>\n",
       "      <th>a</th>\n",
       "      <td>0.060169</td>\n",
       "      <td>0.131766</td>\n",
       "      <td>0.104560</td>\n",
       "    </tr>\n",
       "    <tr>\n",
       "      <th>b</th>\n",
       "      <td>0.011135</td>\n",
       "      <td>0.010867</td>\n",
       "      <td>0.008233</td>\n",
       "    </tr>\n",
       "    <tr>\n",
       "      <th>c</th>\n",
       "      <td>0.021510</td>\n",
       "      <td>0.005486</td>\n",
       "      <td>0.037526</td>\n",
       "    </tr>\n",
       "    <tr>\n",
       "      <th>d</th>\n",
       "      <td>0.021973</td>\n",
       "      <td>0.017226</td>\n",
       "      <td>0.039746</td>\n",
       "    </tr>\n",
       "    <tr>\n",
       "      <th>e</th>\n",
       "      <td>0.105369</td>\n",
       "      <td>0.060205</td>\n",
       "      <td>0.113811</td>\n",
       "    </tr>\n",
       "    <tr>\n",
       "      <th>f</th>\n",
       "      <td>0.018933</td>\n",
       "      <td>0.003879</td>\n",
       "      <td>0.008603</td>\n",
       "    </tr>\n",
       "    <tr>\n",
       "      <th>g</th>\n",
       "      <td>0.017479</td>\n",
       "      <td>0.014012</td>\n",
       "      <td>0.007184</td>\n",
       "    </tr>\n",
       "    <tr>\n",
       "      <th>h</th>\n",
       "      <td>0.047216</td>\n",
       "      <td>0.031762</td>\n",
       "      <td>0.004533</td>\n",
       "    </tr>\n",
       "    <tr>\n",
       "      <th>i</th>\n",
       "      <td>0.055411</td>\n",
       "      <td>0.097033</td>\n",
       "      <td>0.049860</td>\n",
       "    </tr>\n",
       "    <tr>\n",
       "      <th>j</th>\n",
       "      <td>0.001421</td>\n",
       "      <td>0.002341</td>\n",
       "      <td>0.006629</td>\n",
       "    </tr>\n",
       "    <tr>\n",
       "      <th>k</th>\n",
       "      <td>0.003734</td>\n",
       "      <td>0.057409</td>\n",
       "      <td>0.000278</td>\n",
       "    </tr>\n",
       "    <tr>\n",
       "      <th>l</th>\n",
       "      <td>0.028977</td>\n",
       "      <td>0.001433</td>\n",
       "      <td>0.052943</td>\n",
       "    </tr>\n",
       "    <tr>\n",
       "      <th>m</th>\n",
       "      <td>0.020519</td>\n",
       "      <td>0.039799</td>\n",
       "      <td>0.025809</td>\n",
       "    </tr>\n",
       "    <tr>\n",
       "      <th>n</th>\n",
       "      <td>0.057922</td>\n",
       "      <td>0.056711</td>\n",
       "      <td>0.054177</td>\n",
       "    </tr>\n",
       "    <tr>\n",
       "      <th>o</th>\n",
       "      <td>0.064464</td>\n",
       "      <td>0.091163</td>\n",
       "      <td>0.072492</td>\n",
       "    </tr>\n",
       "    <tr>\n",
       "      <th>p</th>\n",
       "      <td>0.016752</td>\n",
       "      <td>0.000874</td>\n",
       "      <td>0.024267</td>\n",
       "    </tr>\n",
       "    <tr>\n",
       "      <th>q</th>\n",
       "      <td>0.000562</td>\n",
       "      <td>0.000105</td>\n",
       "      <td>0.007678</td>\n",
       "    </tr>\n",
       "    <tr>\n",
       "      <th>r</th>\n",
       "      <td>0.053825</td>\n",
       "      <td>0.042804</td>\n",
       "      <td>0.059295</td>\n",
       "    </tr>\n",
       "    <tr>\n",
       "      <th>s</th>\n",
       "      <td>0.066182</td>\n",
       "      <td>0.042175</td>\n",
       "      <td>0.065770</td>\n",
       "    </tr>\n",
       "    <tr>\n",
       "      <th>t</th>\n",
       "      <td>0.080126</td>\n",
       "      <td>0.056990</td>\n",
       "      <td>0.035614</td>\n",
       "    </tr>\n",
       "    <tr>\n",
       "      <th>u</th>\n",
       "      <td>0.026664</td>\n",
       "      <td>0.070617</td>\n",
       "      <td>0.033702</td>\n",
       "    </tr>\n",
       "    <tr>\n",
       "      <th>v</th>\n",
       "      <td>0.009285</td>\n",
       "      <td>0.000245</td>\n",
       "      <td>0.005889</td>\n",
       "    </tr>\n",
       "    <tr>\n",
       "      <th>w</th>\n",
       "      <td>0.015496</td>\n",
       "      <td>0.019742</td>\n",
       "      <td>0.000093</td>\n",
       "    </tr>\n",
       "    <tr>\n",
       "      <th>x</th>\n",
       "      <td>0.001156</td>\n",
       "      <td>0.000035</td>\n",
       "      <td>0.002498</td>\n",
       "    </tr>\n",
       "    <tr>\n",
       "      <th>y</th>\n",
       "      <td>0.013844</td>\n",
       "      <td>0.014151</td>\n",
       "      <td>0.007863</td>\n",
       "    </tr>\n",
       "    <tr>\n",
       "      <th>z</th>\n",
       "      <td>0.000628</td>\n",
       "      <td>0.007722</td>\n",
       "      <td>0.002683</td>\n",
       "    </tr>\n",
       "    <tr>\n",
       "      <th></th>\n",
       "      <td>0.179250</td>\n",
       "      <td>0.123449</td>\n",
       "      <td>0.168265</td>\n",
       "    </tr>\n",
       "  </tbody>\n",
       "</table>\n",
       "</div>"
      ],
      "text/plain": [
       "label         e         j         s\n",
       "a      0.060169  0.131766  0.104560\n",
       "b      0.011135  0.010867  0.008233\n",
       "c      0.021510  0.005486  0.037526\n",
       "d      0.021973  0.017226  0.039746\n",
       "e      0.105369  0.060205  0.113811\n",
       "f      0.018933  0.003879  0.008603\n",
       "g      0.017479  0.014012  0.007184\n",
       "h      0.047216  0.031762  0.004533\n",
       "i      0.055411  0.097033  0.049860\n",
       "j      0.001421  0.002341  0.006629\n",
       "k      0.003734  0.057409  0.000278\n",
       "l      0.028977  0.001433  0.052943\n",
       "m      0.020519  0.039799  0.025809\n",
       "n      0.057922  0.056711  0.054177\n",
       "o      0.064464  0.091163  0.072492\n",
       "p      0.016752  0.000874  0.024267\n",
       "q      0.000562  0.000105  0.007678\n",
       "r      0.053825  0.042804  0.059295\n",
       "s      0.066182  0.042175  0.065770\n",
       "t      0.080126  0.056990  0.035614\n",
       "u      0.026664  0.070617  0.033702\n",
       "v      0.009285  0.000245  0.005889\n",
       "w      0.015496  0.019742  0.000093\n",
       "x      0.001156  0.000035  0.002498\n",
       "y      0.013844  0.014151  0.007863\n",
       "z      0.000628  0.007722  0.002683\n",
       "       0.179250  0.123449  0.168265"
      ]
     },
     "execution_count": 8,
     "metadata": {},
     "output_type": "execute_result"
    }
   ],
   "source": [
    "Ks = 27 \n",
    "tot_l_in_label = df.groupby('label').sum().sum(axis=1)\n",
    "l_in_label = df.groupby('label').sum().T\n",
    "conditional_proba = (l_in_label + alpha) / (tot_l_in_label + Ks*alpha)\n",
    "\n",
    "conditional_proba.loc[sortby]"
   ]
  },
  {
   "cell_type": "code",
   "execution_count": 9,
   "id": "7fb891e7",
   "metadata": {},
   "outputs": [],
   "source": [
    "conditional_proba.loc[sortby, 'e'].to_csv('images/conditional_proba_e.csv')"
   ]
  },
  {
   "cell_type": "code",
   "execution_count": 10,
   "id": "6bf2ec36",
   "metadata": {},
   "outputs": [],
   "source": [
    "conditional_proba.loc[sortby, ['j', 's']].to_csv('images/conditional_proba_j_s.csv')"
   ]
  },
  {
   "cell_type": "code",
   "execution_count": 11,
   "id": "63e53a1c",
   "metadata": {},
   "outputs": [],
   "source": [
    "# (conditional_proba*prior).sort_index()"
   ]
  },
  {
   "cell_type": "code",
   "execution_count": 12,
   "id": "5eba1b58",
   "metadata": {},
   "outputs": [],
   "source": [
    "label = 'e'\n",
    "i = 10\n",
    "test_dict = get_letters_in_file(folder+label+str(i)+'.txt')\n",
    "x_test = pd.Series(test_dict, name=label+str(i)+'_bow', index=sortby)\n",
    "# x_test = df_test.drop('label')\n",
    "\n",
    "x_test.loc[sortby].to_csv('images/bag_words_e10.csv')\n",
    "\n",
    "x_test = x_test/x_test.sum()\n",
    "\n",
    "x_test.loc[sortby].to_csv('images/freq_words_e10.csv')"
   ]
  },
  {
   "cell_type": "code",
   "execution_count": 13,
   "id": "4b32ebf0",
   "metadata": {},
   "outputs": [
    {
     "data": {
      "text/plain": [
       "2775"
      ]
     },
     "execution_count": 13,
     "metadata": {},
     "output_type": "execute_result"
    }
   ],
   "source": [
    "pd.Series(test_dict, name=label+str(i)+'_bow', index=sortby).sum()"
   ]
  },
  {
   "cell_type": "code",
   "execution_count": 14,
   "id": "3fbae781",
   "metadata": {},
   "outputs": [
    {
     "data": {
      "text/plain": [
       "language\n",
       "e   -2.825897\n",
       "j   -3.160877\n",
       "s   -3.051273\n",
       "Name: conditionalLogProba, dtype: float64"
      ]
     },
     "execution_count": 14,
     "metadata": {},
     "output_type": "execute_result"
    }
   ],
   "source": [
    "res = []\n",
    "for l in languages:\n",
    "    proba = (x_test * np.log(conditional_proba[l])).sum()\n",
    "    res.append([l, proba, np.exp(proba)])\n",
    "df_e10_res = pd.DataFrame(res, columns=['language', 'conditionalLogProba', 'conditional']).set_index('language')\n",
    "df_e10_res['conditionalLogProba'].to_csv('images/conditional_e10.csv')\n",
    "df_e10_res['conditionalLogProba']"
   ]
  },
  {
   "cell_type": "code",
   "execution_count": 15,
   "id": "dfdebb2a",
   "metadata": {},
   "outputs": [
    {
     "data": {
      "text/plain": [
       "e   -3.924510\n",
       "j   -4.259489\n",
       "s   -4.149885\n",
       "dtype: float64"
      ]
     },
     "execution_count": 15,
     "metadata": {},
     "output_type": "execute_result"
    }
   ],
   "source": [
    "posterior = df_e10_res['conditionalLogProba']+np.log(prior)\n",
    "posterior.rename('posteriorLogProba').to_csv('images/posterior_e10.csv')\n",
    "posterior"
   ]
  },
  {
   "cell_type": "code",
   "execution_count": 16,
   "id": "a2cf63ed",
   "metadata": {},
   "outputs": [],
   "source": [
    "results = []\n",
    "\n",
    "for label in languages:\n",
    "    for i in range(10, 20):\n",
    "        test_dict = get_letters_in_file(folder+label+str(i)+'.txt')\n",
    "        x_test = pd.Series(test_dict, name=label+str(i)+'_bow', index=sortby)\n",
    "#         x_test = df_test.drop('label')\n",
    "        x_test = x_test/x_test.sum()\n",
    "\n",
    "        res = []\n",
    "        for l in languages:\n",
    "            # TODO add prior\n",
    "            proba = (x_test * np.log(conditional_proba[l])).sum()\n",
    "            res.append([l, proba, prior[l]*np.exp(proba)])\n",
    "        results.append([label] + max(res, key=lambda x:x[1]))\n",
    "#         results.append(max(res, key=lambda x:x[1]))"
   ]
  },
  {
   "cell_type": "code",
   "execution_count": 17,
   "id": "b01151a9",
   "metadata": {},
   "outputs": [],
   "source": [
    "res_df = pd.DataFrame(results, columns=['label', 'pred', 'cond_log_proba', 'proba'])"
   ]
  },
  {
   "cell_type": "code",
   "execution_count": 18,
   "id": "5718996d",
   "metadata": {},
   "outputs": [],
   "source": [
    "# res_df"
   ]
  },
  {
   "cell_type": "code",
   "execution_count": 19,
   "id": "e84184df",
   "metadata": {},
   "outputs": [
    {
     "data": {
      "image/png": "[encoded data removed]",
      "text/plain": [
       "<Figure size 432x288 with 2 Axes>"
      ]
     },
     "metadata": {
      "needs_background": "light"
     },
     "output_type": "display_data"
    }
   ],
   "source": [
    "from sklearn.metrics import confusion_matrix, ConfusionMatrixDisplay\n",
    "\n",
    "cm = confusion_matrix(res_df['label'], res_df['pred'], labels=languages ) # TODO check if labels are assigned correctly\n",
    "disp = ConfusionMatrixDisplay(confusion_matrix=cm, display_labels=languages) # TODO check if labels are assigned correctly\n",
    "\n",
    "disp.plot();"
   ]
  },
  {
   "cell_type": "code",
   "execution_count": 20,
   "id": "6f2d4daf",
   "metadata": {},
   "outputs": [],
   "source": [
    "label = 'j'\n",
    "i = 14\n",
    "test_dict = get_letters_in_file(folder+label+str(i)+'.txt')\n",
    "df_test = pd.Series(test_dict, name='test')\n",
    "x_test = df_test.drop('label')\n",
    "# x_test = x_test/x_test.sum()\n"
   ]
  },
  {
   "cell_type": "code",
   "execution_count": 21,
   "id": "69e68193",
   "metadata": {},
   "outputs": [],
   "source": [
    "label = 's'\n",
    "i = 14\n",
    "file_path = folder+label+str(i)+'.txt'\n",
    "\n",
    "with open(file_path) as f:\n",
    "            doc = f.read()\n",
    "\n",
    "replace_chars = ['\\n', '\\t']\n",
    "for r_char in replace_chars:\n",
    "    doc = doc.replace(r_char, '')"
   ]
  },
  {
   "cell_type": "code",
   "execution_count": 22,
   "id": "17e759c9",
   "metadata": {},
   "outputs": [
    {
     "data": {
      "text/plain": [
       "'aunque los mexicanos empezaron a dominar a tener posesion del balon a ganar los rebotes y a presionar a los de casa desde la salida no pudieron tener claridad en las jugadas porque se defendieron bien los hondurenosun minuto despues carlos vela se olvido completamente del balon y le dio tremenda patada por atras a ramon nunez para recibir la roja del arbitro guatemalteco carlos batres quedarse dormido en el trabajowwwenplenitudcomsi eres de las que no se conforma con nada y tu afan por lucir siempre impecable te lleva de cabeza no debes desviar tu atencion de una parte muy escondida de tu belleza que sin embargo puede llegar a sugerirlo todo de ti hablamos de tus pestanasy no olvides al aplicar el rimel que el exceso de producto en el cepillo puede emborronar la mirada dejar grumos o convertir tus pestanas en un bloque rigido sin ningun atractivo un simple panuelo de papel puede servirte para retirar esos excesos del cepilloseguro que tu esteticien podra aconsejarte y limpiar la zona ciliar de vello sobrante hasta lograr la forma idonea despues te sera mas facil hacer tu misma el mantenimiento e ir depilando todo el pelo que crezca fuera de tu nueva ceja para ello lo mejor es que inviertas en unas buenas pinzas de depilar y un espejo de varios aumentos las pinzas tweezerman son las reinas del mercado con justa fama por su calidad y precision aunque hay marcas a montoneslas mejores firmas de cosmetica tienen productos adecuados para el tratamiento de las ojerasa continuacion se debe aplicar crema hidratante y dejar que la piel la absorba totalmente la firma eucerin recomienda q anti edadcon factor de proteccion  luego una base protectora endurecera nutrira  y proporcionara la vitalidad que las unas necesitan para estar sanas y bonitas'"
      ]
     },
     "execution_count": 22,
     "metadata": {},
     "output_type": "execute_result"
    }
   ],
   "source": [
    "doc"
   ]
  },
  {
   "cell_type": "code",
   "execution_count": 23,
   "id": "2c685851",
   "metadata": {},
   "outputs": [],
   "source": [
    "random = list(doc)\n",
    "np.random.shuffle(random)\n",
    "random = ''.join(random)"
   ]
  },
  {
   "cell_type": "code",
   "execution_count": 24,
   "id": "2685ce54",
   "metadata": {},
   "outputs": [
    {
     "data": {
      "text/plain": [
       "'lesvo  insip oorrts mepe srirtlceaidslouo r f geeasrrdudei nmousiaaeouaedapo etlsudwid uuus ld sb trecai o vaypei oli ocenpea  etoaalntdendt  rlr  ae mpsnm m   ivrrao nmis  ase iopap iaberber essdaote aey tavaac eedtdssmqnbgemrund e  lreq uemontimd  oloeeereuln sgsdnnuecetdsb  ts ssetrrcdhx e da rf umsrlr ildmmoeecqcopran goraoecrd m ie  pz losaraaeovc iadsltneaaona u uoa hoetatbred tepoereodtueoh fsdr woeo  eeo upmmbbcuwao utao as  eerctrsnaea elirec dcive laaa unp ei o  d din ana iorraiilbiclvfeaiiant et e   ndepaigc innsl ccb uairvlir bennpucu edcayiaclanreee  tln aamtet dniusoq mirsupa eaaatle lam suoc edtapemhalar u olnt  agtme ein lnsa nrlzlep nczi tdpieoald  msog tadl nentdteee rdece aila ir  reuapacaeaodsan llstadns im o xj  rte ra aoecino y pismlerz ias du eedaer naaeens oqpl ara orend lnlri s  l eljtlosar ueec  rvenj aaromees l e rttcisaa rgtopn esbooiil enyslodrl osc s l oemuseambrralne ia lr oa p bare je o  pdei eundaaai euafyt  ezoi ppa aad lepaat iojein btsro ihlc eejclelianallronqdaraotn rr eduyap nu ee ema ciardcusno aud  crse   bzaepnaespaaappsnrbci mopeottn eis aiannsreeoa   jmeoaddsns meeea t entraa irpaocfd ihtel celueotlfoossif aa isniscg ad pei    arutecpaaarcpne oaa aaootpel snultalmaoc aqr scn  els mp  ierujtfndeaslrn nncunur  n  eoj d uneeecsbv u alnn ogroir aqt ciuaudeapabuodtdsoil    eryta sairnwsieueu etsll t uo eeuseeemneultmeaslosra eelrto da sb vasada rqe  erreaot anr mualmmoooae icuq pl ajeab vsreormd rrneoebe nennld nodlssicasoasqar iecarsgaa dnnsrujy  udrysxmn  nottsu  e ato nasnm  arrzjnee tadeaau  dbolrec qr n sraodenar c nonnatespreuene y cosonoor mro laseddllcslem e pt tle  vrp moqpoooadalp oe nu  fr oeaoer lt ead dtiilzeiaspieael aiszccesruoryiacae eapsade aarneg uoosudneoo iiednqan aoditerineop'"
      ]
     },
     "execution_count": 24,
     "metadata": {},
     "output_type": "execute_result"
    }
   ],
   "source": [
    "random"
   ]
  },
  {
   "cell_type": "code",
   "execution_count": 25,
   "id": "25a75130",
   "metadata": {},
   "outputs": [],
   "source": [
    "letters_dict = Counter(random)"
   ]
  },
  {
   "cell_type": "code",
   "execution_count": 26,
   "id": "d41e4da6",
   "metadata": {},
   "outputs": [],
   "source": [
    "random_df = pd.Series(letters_dict)"
   ]
  },
  {
   "cell_type": "code",
   "execution_count": 27,
   "id": "79888cbb",
   "metadata": {},
   "outputs": [],
   "source": [
    "# random_df = random_df/random_df.sum()\n",
    "\n",
    "res = []\n",
    "for l in languages:\n",
    "    proba = (random_df * np.log(conditional_proba[l])).sum()\n",
    "    res.append([l, proba])"
   ]
  },
  {
   "cell_type": "code",
   "execution_count": 28,
   "id": "ca0e2e1e",
   "metadata": {},
   "outputs": [
    {
     "data": {
      "text/plain": [
       "[['e', -5135.988884507473],\n",
       " ['j', -5698.726857943492],\n",
       " ['s', -4918.813749148354]]"
      ]
     },
     "execution_count": 28,
     "metadata": {},
     "output_type": "execute_result"
    }
   ],
   "source": [
    "res"
   ]
  },
  {
   "cell_type": "code",
   "execution_count": 29,
   "id": "81ffac64",
   "metadata": {},
   "outputs": [
    {
     "data": {
      "text/plain": [
       "['s', -4918.813749148354]"
      ]
     },
     "execution_count": 29,
     "metadata": {},
     "output_type": "execute_result"
    }
   ],
   "source": [
    "max(res, key=lambda x:x[1])"
   ]
  },
  {
   "cell_type": "code",
   "execution_count": null,
   "id": "e5572701",
   "metadata": {},
   "outputs": [],
   "source": []
  }
 ],
 "metadata": {
  "kernelspec": {
   "display_name": "Python 3",
   "language": "python",
   "name": "python3"
  },
  "language_info": {
   "codemirror_mode": {
    "name": "ipython",
    "version": 3
   },
   "file_extension": ".py",
   "mimetype": "text/x-python",
   "name": "python",
   "nbconvert_exporter": "python",
   "pygments_lexer": "ipython3",
   "version": "3.8.5"
  }
 },
 "nbformat": 4,
 "nbformat_minor": 5
}
